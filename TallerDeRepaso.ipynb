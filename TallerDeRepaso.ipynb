{
 "cells": [
  {
   "cell_type": "markdown",
   "metadata": {},
   "source": [
    "# TALLER DE REPASO\n",
    "\n",
    "## Recordar:\n",
    "\n",
    "1. Los códigos escritos en Python se pueden ejecutar de diferentes formas, por ejemplo:\n",
    "\n",
    "    * Utilizando el IDLE de Python\n",
    "    * Utilizando Spyder, usualmente instalando Anaconda\n",
    "    * Utilizando la consola de comandos\n",
    "    * Utilizando editores como Visual Studio Code, Sublime Text, Atom, etc.\n",
    "    * Utilizando notebooks de jupyter (Como en este caso)\n",
    " \n",
    " \n",
    "2. En el curso se utiliza Python 3.x, el cual puede ser instalado de las siguientes páginas (deben seleccionar el sistema operativo de su interes):\n",
    "\n",
    "    * Oficial Python: https://www.python.org/downloads/\n",
    "    * Anaconda navigator: https://www.anaconda.com/distribution/\n",
    "\n",
    "\n",
    "3. La documentación de Python es el mejor texto guia para estudiar:\n",
    "\n",
    "    * Oficial Python Documentation: https://www.python.org/\n",
    "    * Programiz, Python: https://www.programiz.com/python-programming\n",
    "\n",
    "4. Cursos de interes:\n",
    "\n",
    "    * https://www.edx.org/course/using-python-for-research\n",
    "    * https://www.edx.org/course/principles-of-machine-learning-python-edition\n",
    "    * https://www.edx.org/course/introduction-to-computer-science-and-programming-using-python-0"
   ]
  },
  {
   "cell_type": "code",
   "execution_count": 1,
   "metadata": {},
   "outputs": [
    {
     "name": "stdout",
     "output_type": "stream",
     "text": [
      "El tipo de dato de True es <class 'bool'>\n",
      "El tipo de dato de Hola es <class 'str'>\n",
      "El tipo de dato de 1 es <class 'int'>\n",
      "El tipo de dato de 1.0 es <class 'float'>\n",
      "El tipo de dato de False es <class 'bool'>\n",
      "El tipo de dato de informatica es <class 'str'>\n",
      "El tipo de dato de range(0, 5) es <class 'range'>\n",
      "El tipo de dato de [1, 2] es <class 'list'>\n",
      "El tipo de dato de (1, 2) es <class 'tuple'>\n",
      "El tipo de dato de {'a': 1, 'b': 2} es <class 'dict'>\n"
     ]
    }
   ],
   "source": [
    "# Demostracion del tipado dinamico en Python\n",
    "\n",
    "x = True                # Inicialmente x es de tipo bool\n",
    "tipoDex = type(x)\n",
    "print(\"El tipo de dato de\", x, \"es\", tipoDex)\n",
    "\n",
    "x = \"Hola\"             # Ahora x es de tipo str\n",
    "print(\"El tipo de dato de\", x, \"es\", type(x))\n",
    "\n",
    "# Se crea una lista x, x es de tipo list\n",
    "x = [1, 1.0, False, \"informatica\", range(5), [1, 2], (1,2), {'a':1, 'b':2}]\n",
    "\n",
    "\"\"\"\n",
    "A continuacion se muestran dos formas de utilizar el ciclo for sobre un objeto iterable.\n",
    "Se debe recordar que x debe ser un objeto iterable (str, list, tuple...)\n",
    "\"\"\"\n",
    "\n",
    "#for i in x:\n",
    "#    print(\"El tipo de dato de\", i, \"es\", type(i))\n",
    "    \n",
    "for i in range(len(x)):\n",
    "    print(\"El tipo de dato de\", x[i], \"es\", type(x[i]))\n"
   ]
  },
  {
   "cell_type": "raw",
   "metadata": {},
   "source": [
    "1. Diseñe un programa que reciba un dato por consola y lo imprima."
   ]
  },
  {
   "cell_type": "code",
   "execution_count": 8,
   "metadata": {},
   "outputs": [
    {
     "name": "stdout",
     "output_type": "stream",
     "text": [
      "Ingrese un dato: 1\n",
      "El dato ingresado por el usuario fue: 1\n"
     ]
    }
   ],
   "source": [
    "# La función input permite recibir un dato por consola y siempre retorna un str\n",
    "x = input(\"Ingrese un dato: \")\n",
    "\n",
    "# La función print imprime un dato en consola (repasar los caracteres de escape)\n",
    "print(\"El dato ingresado por el usuario fue:\", x)"
   ]
  },
  {
   "cell_type": "raw",
   "metadata": {},
   "source": [
    "2. Diseñe un programa que realice la suma de dos datos ingresados por el usuario. En caso de que los datos ingresados sean int o float se debe realizar la suma algebraica. En caso contrario se debe mostrar un mensaje indicando que los datos no son correctos."
   ]
  },
  {
   "cell_type": "code",
   "execution_count": null,
   "metadata": {
    "scrolled": true
   },
   "outputs": [],
   "source": [
    "# Ingreso de los datos\n",
    "a = input(\"Ingrese el primer dato: \")\n",
    "b = input(\"Ingrese el segundo dato: \")\n",
    "\n",
    "# Investigue en que consiste sentencia try - except https://www.programiz.com/python-programming/exception-handling\n",
    "try:\n",
    "    # Se realiza la operacion suma\n",
    "    miSuma = float(a) + float(b)\n",
    "    # Se imprime el resultado\n",
    "    print(a, '+', b, \"=\", miSuma)\n",
    "except:\n",
    "    print(\"ERROR!!! Los datos ingresados no son números\")\n",
    "    "
   ]
  },
  {
   "cell_type": "code",
   "execution_count": null,
   "metadata": {},
   "outputs": [],
   "source": []
  }
 ],
 "metadata": {
  "kernelspec": {
   "display_name": "Python 3",
   "language": "python",
   "name": "python3"
  },
  "language_info": {
   "codemirror_mode": {
    "name": "ipython",
    "version": 3
   },
   "file_extension": ".py",
   "mimetype": "text/x-python",
   "name": "python",
   "nbconvert_exporter": "python",
   "pygments_lexer": "ipython3",
   "version": "3.7.1"
  }
 },
 "nbformat": 4,
 "nbformat_minor": 2
}
